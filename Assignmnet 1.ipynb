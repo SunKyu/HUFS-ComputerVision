{
 "cells": [
  {
   "cell_type": "markdown",
   "metadata": {},
   "source": [
    "# 과제 #1"
   ]
  },
  {
   "cell_type": "code",
   "execution_count": 51,
   "metadata": {},
   "outputs": [],
   "source": [
    "import numpy as np\n",
    "import copy"
   ]
  },
  {
   "cell_type": "markdown",
   "metadata": {},
   "source": [
    "\n",
    "\n",
    "## 1. 다음 영상의 명암 단계는 [0,7]이다.\n",
    "\n",
    "1 1 2 3 2  \n",
    "0 1 3 4 2  \n",
    "3 2 7 6 3  \n",
    "4 5 5 7 6  \n",
    "3 4 4 4 3  \n",
    "a. 이 영상의 히스토그램을 구하라.  \n",
    "b. 히스토그램 평활화(equalization)를 위한 매핑 표를 구하라.  \n",
    "c. 평활화된 영상을 구하라.  \n"
   ]
  },
  {
   "cell_type": "code",
   "execution_count": 53,
   "metadata": {},
   "outputs": [],
   "source": [
    "vs = [[1,1,2,3,2],\n",
    "     [0,1,3,4,2],\n",
    "     [3,2,7,6,3],\n",
    "     [4,5,5,7,6],\n",
    "     [3,4,4,4,3]]"
   ]
  },
  {
   "cell_type": "code",
   "execution_count": 20,
   "metadata": {},
   "outputs": [
    {
     "name": "stdout",
     "output_type": "stream",
     "text": [
      "h = [1 3 4 6 5 2 2 2]\n",
      "nomalized_hist = [0.04 0.12 0.16 0.24 0.2  0.08 0.08 0.08]\n"
     ]
    }
   ],
   "source": [
    "light_level = 8\n",
    "a = np.histogram(vs, np.arange(light_level+1))\n",
    "hist, bin_edges = a\n",
    "print(\"h = \" + str(hist))\n",
    "a = np.histogram(vs, np.arange(light_level+1), density = True)\n",
    "nomalized_hist, bin_edges = a\n",
    "print(\"nomalized_hist = \" + str(nomalized_hist))\n",
    "\n",
    "\n"
   ]
  },
  {
   "cell_type": "code",
   "execution_count": 31,
   "metadata": {},
   "outputs": [
    {
     "name": "stdout",
     "output_type": "stream",
     "text": [
      "[0.04 0.16 0.32 0.56 0.76 0.84 0.92 1.  ]\n"
     ]
    }
   ],
   "source": [
    "c_nomalized_hist = [0.0 for x in range(len(nomalized_hist))]\n",
    "for i in range(0, len(nomalized_hist)):\n",
    "    c_nomalized_hist[i] = c_nomalized_hist[i-1] + nomalized_hist[i]\n",
    "\n",
    "c_nomalized_hist = (np.around(c_nomalized_hist, decimals=2))\n",
    "print(c_nomalized_hist)"
   ]
  },
  {
   "cell_type": "code",
   "execution_count": 32,
   "metadata": {},
   "outputs": [
    {
     "name": "stdout",
     "output_type": "stream",
     "text": [
      "[0.28, 1.12, 2.24, 3.9200000000000004, 5.32, 5.88, 6.44, 7.0]\n"
     ]
    }
   ],
   "source": [
    "v = [x*(light_level-1) for x in c_nomalized_hist]\n",
    "print (v)"
   ]
  },
  {
   "cell_type": "code",
   "execution_count": 36,
   "metadata": {},
   "outputs": [
    {
     "name": "stdout",
     "output_type": "stream",
     "text": [
      "[0, 1, 2, 4, 5, 6, 6, 7]\n"
     ]
    }
   ],
   "source": [
    "v = np.around(v, decimals =1)\n",
    "v = [int(x) for x in v]\n",
    "print(v)"
   ]
  },
  {
   "cell_type": "code",
   "execution_count": 55,
   "metadata": {},
   "outputs": [
    {
     "name": "stdout",
     "output_type": "stream",
     "text": [
      "[1, 1, 2, 4, 2]\n",
      "[0, 1, 4, 5, 2]\n",
      "[4, 2, 7, 6, 4]\n",
      "[5, 6, 6, 7, 6]\n",
      "[4, 5, 5, 5, 4]\n"
     ]
    }
   ],
   "source": [
    "vs2 = copy.deepcopy(vs)\n",
    "for x in range(len(vs)):\n",
    "    for y in range(len(vs2[0])):\n",
    "        vs2[x][y] = v[vs[x][y]]\n",
    "        \n",
    "for line in vs2:\n",
    "    print(line)\n"
   ]
  },
  {
   "cell_type": "markdown",
   "metadata": {},
   "source": [
    "## 2. 다음 이진영상에 대해 연결요소 번호붙이기(connected component labeling)를 수행한다고 한다. 4-연결성과 8-연결성 기준을 적용했을 때 각각의 결과를 구하라.\n",
    "\n",
    "0 0 0 0 0 0 0 0 0 0  \n",
    "0 0 0 0 1 1 0 0 0 0  \n",
    "0 0 0 0 0 1 0 0 0 0  \n",
    "0 0 0 0 0 1 0 1 1 0  \n",
    "0 0 1 1 1 0 0 0 1 0  \n",
    "0 1 0 0 0 0 0 0 1 0  \n",
    "0 1 0 0 0 0 1 1 0 0  \n",
    "0 0 1 1 1 0 0 0 0 0  \n",
    "0 0 0 0 0 0 0 0 0 0  \n",
    "0 0 0 0 0 0 0 0 0 0  \n"
   ]
  },
  {
   "cell_type": "markdown",
   "metadata": {},
   "source": [
    "### 4연결성\n",
    "\n",
    "0 0 0 0 0 0 0 0 0 0  \n",
    "0 0 0 0 1 1 0 0 0 0  \n",
    "0 0 0 0 0 1 0 0 0 0  \n",
    "0 0 0 0 0 1 0 2 2 0  \n",
    "0 0 3 3 3 0 0 0 2 0  \n",
    "0 4 0 0 0 0 0 0 2 0  \n",
    "0 4 0 0 0 0 5 5 0 0  \n",
    "0 0 6 6 6 0 0 0 0 0  \n",
    "0 0 0 0 0 0 0 0 0 0  \n",
    "0 0 0 0 0 0 0 0 0 0  "
   ]
  },
  {
   "cell_type": "markdown",
   "metadata": {},
   "source": [
    "### 8연결성\n",
    "\n",
    "0 0 0 0 0 0 0 0 0 0  \n",
    "0 0 0 0 1 1 0 0 0 0  \n",
    "0 0 0 0 0 1 0 0 0 0  \n",
    "0 0 0 0 0 1 0 2 2 0  \n",
    "0 0 1 1 1 0 0 0 2 0  \n",
    "0 1 0 0 0 0 0 0 2 0  \n",
    "0 1 0 0 0 0 2 2 0 0  \n",
    "0 0 1 1 1 0 0 0 0 0  \n",
    "0 0 0 0 0 0 0 0 0 0  \n",
    "0 0 0 0 0 0 0 0 0 0  "
   ]
  },
  {
   "cell_type": "code",
   "execution_count": 65,
   "metadata": {},
   "outputs": [
    {
     "data": {
      "text/plain": [
       "[['0', '0', '0', '0', '0', '0', '0', '0', '0', '0'],\n",
       " ['0', '0', '0', '0', '1', '1', '0', '0', '0', '0'],\n",
       " ['0', '0', '0', '0', '0', '1', '0', '0', '0', '0'],\n",
       " ['0', '0', '0', '0', '0', '1', '0', '1', '1', '0'],\n",
       " ['0', '0', '1', '1', '1', '0', '0', '0', '1', '0'],\n",
       " ['0', '1', '0', '0', '0', '0', '0', '0', '1', '0'],\n",
       " ['0', '1', '0', '0', '0', '0', '1', '1', '0', '0'],\n",
       " ['0', '0', '1', '1', '1', '0', '0', '0', '0', '0'],\n",
       " ['0', '0', '0', '0', '0', '0', '0', '0', '0', '0'],\n",
       " ['0', '0', '0', '0', '0', '0', '0', '0', '0', '0']]"
      ]
     },
     "execution_count": 65,
     "metadata": {},
     "output_type": "execute_result"
    }
   ],
   "source": [
    "vs = \"\"\"0 0 0 0 0 0 0 0 0 0\n",
    "0 0 0 0 1 1 0 0 0 0\n",
    "0 0 0 0 0 1 0 0 0 0\n",
    "0 0 0 0 0 1 0 1 1 0\n",
    "0 0 1 1 1 0 0 0 1 0\n",
    "0 1 0 0 0 0 0 0 1 0\n",
    "0 1 0 0 0 0 1 1 0 0\n",
    "0 0 1 1 1 0 0 0 0 0\n",
    "0 0 0 0 0 0 0 0 0 0\n",
    "0 0 0 0 0 0 0 0 0 0\"\"\"\n",
    "vs =vs.split('\\n')\n",
    "m = [x.split(' ') for x in vs]\n",
    "m"
   ]
  },
  {
   "cell_type": "markdown",
   "metadata": {},
   "source": [
    "## 3. 다음 1차원 신호에 대해 상관(correlation)과 콘볼루션 결과를 각각 구하라.\n",
    "\t\tf(x): 2 4 7 8 7 7 4 (x = 0,1,…,6),  u(x): 1 3 2 (x = −1,0,1)"
   ]
  },
  {
   "cell_type": "markdown",
   "metadata": {},
   "source": []
  },
  {
   "cell_type": "code",
   "execution_count": 102,
   "metadata": {},
   "outputs": [
    {
     "name": "stdout",
     "output_type": "stream",
     "text": [
      "[0, 28, 41, 45, 43, 36, 0]\n",
      "[0, 23, 37, 45, 44, 39, 0]\n"
     ]
    }
   ],
   "source": [
    "in_fx = np.array([2,4,7,8, 7, 7, 4])\n",
    "ux = np.array([1, 3, 2])\n",
    "con_ux =np.flip(ux)\n",
    "g = [0 for x in range(len(in_fx))]\n",
    "con_g = [0 for x in range(len(in_fx))]\n",
    "\n",
    "for i in range(len(in_fx)-(len(ux)-1)):\n",
    "    res = 0\n",
    "    for j in range(len(ux)):\n",
    "        res = res +in_fx[i+j] * ux[j]\n",
    "    g[i+int(len(ux)/2)] = res\n",
    "\n",
    "for i in range(len(in_fx)-(len(con_ux)-1)):\n",
    "    res = 0\n",
    "    for j in range(len(con_ux)):\n",
    "        res = res +in_fx[i+j] * con_ux[j]\n",
    "    con_g[i+int(len(ux)/2)] = res\n",
    "\n",
    "print(g)\n",
    "print(con_g)"
   ]
  },
  {
   "cell_type": "markdown",
   "metadata": {},
   "source": [
    "## 4. 영상 좌표축이 아래 그림과 같다고 한다.\n",
    " a. 점 (1,3)을 원점을 중심으로 반시계 방향으로 40° 만큼 회전시킨 좌표를 구하라.  \n",
    " b. 점 (7,2)를 (3,4)점을 중심으로 시계 방향으로 20° 만큼 회전시킨 좌표를 구하라.  "
   ]
  },
  {
   "cell_type": "code",
   "execution_count": 110,
   "metadata": {},
   "outputs": [
    {
     "data": {
      "text/plain": [
       "matrix([[-1.16231839,  2.94092094,  1.        ]])"
      ]
     },
     "execution_count": 110,
     "metadata": {},
     "output_type": "execute_result"
    }
   ],
   "source": [
    "#a\n",
    "sin320 = np.sin((np.pi/180.) * 320.)\n",
    "cos320 = np.cos((np.pi/180.) * 320.)\n",
    "# (1, 3)\n",
    "point_d1 = np.matrix([1, 3, 1])\n",
    "r_m = [[cos320, -sin320, 0],\n",
    "      [sin320, cos320, 0],\n",
    "      [0, 0, 1]]\n",
    "rotation320_2d_m = np.matrix(r_m)\n",
    "point_d1 * rotation320_2d_m\n",
    "#turn_clockwise_320 = np.matrix()"
   ]
  },
  {
   "cell_type": "code",
   "execution_count": 112,
   "metadata": {},
   "outputs": [
    {
     "data": {
      "text/plain": [
       "matrix([[6.0747302 , 0.75253419, 0.        ]])"
      ]
     },
     "execution_count": 112,
     "metadata": {},
     "output_type": "execute_result"
    }
   ],
   "source": [
    "#b\n",
    "point_d2 = np.matrix([7, 2, 0])\n",
    "point_base = np.matrix([3, 4, 1])\n",
    "point_base_d2 = point_base - point_d2\n",
    "cos20 = np.cos((np.pi/180.)*20.)\n",
    "sin20 = np.sin((np.pi/180.)*20.)\n",
    "r_m20 = [[cos20, -sin20, 0],\n",
    "        [sin20, cos20, 0],\n",
    "        [0, 0, 1]]\n",
    "rotation20_2d_m = np.matrix(r_m20)\n",
    "point_base - (point_base_d2 * rotation20_2d_m)"
   ]
  },
  {
   "cell_type": "markdown",
   "metadata": {},
   "source": [
    "## 5. 길이가 4인 다음 1차원 신호의 길이를 7로 늘린다고 한다. 최근접 이웃(nearest neighbor) 방식을 사용하는 경우와 선형 보간(linear interpolation)을 하는 경우의 결과를 구하라.  \n",
    "\t\t\tf(x): 3 7 6 4 (x = 0,1,2,3)"
   ]
  },
  {
   "cell_type": "code",
   "execution_count": null,
   "metadata": {},
   "outputs": [],
   "source": [
    "3 0 7 0 6 0 4"
   ]
  },
  {
   "cell_type": "markdown",
   "metadata": {},
   "source": [
    "## 7. 어떤 영상의 밝기가 다음과 같을 때 양선형 보간(bilinear interpolation)을 이용하여 f(20.4, 30.7)을 구하라.\n",
    "f(20, 30) = 110,  f(21, 30) = 125,  f(20, 31) = 98,  f(21, 31) = 130"
   ]
  },
  {
   "cell_type": "code",
   "execution_count": 113,
   "metadata": {},
   "outputs": [
    {
     "name": "stdout",
     "output_type": "stream",
     "text": [
      "120.46\n"
     ]
    }
   ],
   "source": [
    "alpha_y = 0.4\n",
    "beta_x = 0.7\n",
    "\n",
    "f_y_xd = (1-alpha_y)*110 + alpha_y*(98)\n",
    "f_yplus1_xd = (1-alpha_y)*125 + alpha_y*130\n",
    "f_yd_xd = (1-beta_x)*f_y_xd + beta_x*f_yplus1_xd\n",
    "\n",
    "print(f_yd_xd)\n"
   ]
  },
  {
   "cell_type": "markdown",
   "metadata": {},
   "source": [
    "## 8 다음 이진 영상을 S의 구조요소를 이용하여 형태학적 연산을 수행한다. 침식, 팽창, 열기,  닫기 결과를 구하라 \n",
    "\n",
    "0 0 0 0 0 0 0 0  \n",
    "0 1 1 0 0 0 1 0  \n",
    "0 1 1 0 0 0 1 0  \n",
    "0 1 1 1 0 0 1 0  \n",
    "0 1 1 1 0 1 1 0  \n",
    "0 1 1 1 1 1 1 0  \n",
    "0 1 1 0 0 1 1 0  \n",
    "0 0 0 0 0 0 0 0 \n",
    "\n",
    "침식\n",
    "----\n",
    "0 0 0 0 0 0 0 0  \n",
    "0 0 0 0 0 0 0 0  \n",
    "0 0 0 0 0 0 0 0  \n",
    "0 0 1 0 0 0 0 0  \n",
    "0 0 1 0 0 0 0 0  \n",
    "0 0 1 0 0 1 0 0  \n",
    "0 0 0 0 0 0 0 0  \n",
    "0 0 0 0 0 0 0 0 \n",
    "\n",
    "팽창\n",
    "-----\n",
    "0 1 1 0 0 0 1 0  \n",
    "1 1 1 1 0 1 1 1  \n",
    "1 1 1 1 0 1 1 1  \n",
    "1 1 1 1 1 1 1 1  \n",
    "1 1 1 1 1 1 1 1  \n",
    "1 1 1 1 1 1 1 1  \n",
    "1 1 1 1 1 1 1 1  \n",
    "0 1 1 0 0 1 1 0 \n",
    "열기\n",
    "-----\n",
    "0 0 0 0 0 0 0 0  \n",
    "0 0 0 0 0 0 0 0  \n",
    "0 0 1 0 0 0 0 0  \n",
    "0 1 1 1 0 0 0 0  \n",
    "0 1 1 1 0 1 0 0  \n",
    "0 1 1 1 1 1 1 0  \n",
    "0 0 1 0 0 1 0 0  \n",
    "0 0 0 0 0 0 0 0 \n",
    "\n",
    "닫기\n",
    "----\n",
    "0 0 0 0 0 0 0 0  \n",
    "0 1 1 0 0 0 1 0  \n",
    "0 1 1 0 0 0 1 0  \n",
    "0 1 1 1 0 1 1 0  \n",
    "0 1 1 1 1 1 1 0  \n",
    "0 1 1 1 1 1 1 0  \n",
    "0 1 1 0 0 1 1 0  \n",
    "0 0 0 0 0 0 0 0 \n",
    "\n",
    "\n",
    "0 1   \n",
    "1 1 1  \n",
    "0 1    "
   ]
  },
  {
   "cell_type": "code",
   "execution_count": null,
   "metadata": {},
   "outputs": [],
   "source": []
  }
 ],
 "metadata": {
  "kernelspec": {
   "display_name": "Python 3",
   "language": "python",
   "name": "python3"
  },
  "language_info": {
   "codemirror_mode": {
    "name": "ipython",
    "version": 3
   },
   "file_extension": ".py",
   "mimetype": "text/x-python",
   "name": "python",
   "nbconvert_exporter": "python",
   "pygments_lexer": "ipython3",
   "version": "3.7.7"
  }
 },
 "nbformat": 4,
 "nbformat_minor": 4
}
